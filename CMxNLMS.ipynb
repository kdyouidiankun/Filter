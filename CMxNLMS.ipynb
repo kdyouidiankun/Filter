{
 "cells": [
  {
   "cell_type": "code",
   "execution_count": 157,
   "metadata": {},
   "outputs": [
    {
     "name": "stdout",
     "output_type": "stream",
     "text": [
      "Input signal: [[ 0.99643983+1.22619166j  0.71242127-1.2122101j   0.05914424+0.39883307j]\n",
      " [-0.36331088-0.40809211j  0.00328884-0.43437028j -0.10593044+1.37118283j]\n",
      " [ 0.79305332-0.56804962j -0.63157163-2.03992636j -0.00619491-0.3224276j ]]\n",
      "Desired signal: [[10.15713696-7.99924289j  5.86412312+2.20694763j]\n",
      " [ 0.68749342-0.83251454j -1.64045422+5.04276785j]\n",
      " [-1.60766596-3.1046495j  -1.14405067+2.31378932j]]\n"
     ]
    }
   ],
   "source": [
    "### generate complex data \n",
    "import numpy as np\n",
    "np.random.seed(5)\n",
    "\n",
    "def generate_data(n_samples, true_coefficients, noise_level=0.1):\n",
    "\n",
    "    # Generate a random input signal\n",
    "    k = len(true_coefficients)\n",
    "    m, n = true_coefficients[0].shape\n",
    "\n",
    "\n",
    "    x = np.random.randn(n_samples, m) + 1j*np.random.randn(n_samples, m)\n",
    "\n",
    "    # Generate the desired signal by passing the input through the known system\n",
    "    y = np.zeros((n_samples, n), dtype=np.complex128)\n",
    "\n",
    "    ### y is complex data\n",
    "    for j in range(k):\n",
    "        y += np.dot(np.roll(x, j, axis=0), true_coefficients[j])\n",
    "\n",
    "    # Add noise\n",
    "    noise = noise_level * np.random.randn(n_samples, n) + 1j*noise_level * np.random.randn(n_samples, n)\n",
    "    y += noise\n",
    "    \n",
    "    return x, y\n",
    "\n",
    "# Example usage\n",
    "n_samples = 30000\n",
    "# a series of matrix: k x m x n \n",
    "# k : influence scope 5\n",
    "# m : output dimension  3\n",
    "# n : input dimension 2\n",
    "\n",
    "k = 2\n",
    "m = 3\n",
    "n = 2\n",
    "## coef is complex \n",
    "true_coefficients = [np.random.randn(m, n) + 1j*np.random.randn(m, n) for _ in range(k)]\n",
    "\n",
    "noise_level = 0.05\n",
    "x, y = generate_data(n_samples, true_coefficients, noise_level)\n",
    "print(\"Input signal:\", x[:3])\n",
    "print(\"Desired signal:\", y[:3])"
   ]
  },
  {
   "cell_type": "code",
   "execution_count": 158,
   "metadata": {},
   "outputs": [],
   "source": [
    "### LMS filter\n",
    "k = len(true_coefficients)\n",
    "def lms_filter(x, y, k, mu ):\n",
    "    Ws = [] \n",
    "    m, n = x.shape[1], y.shape[1]\n",
    "    w = np.array([np.random.randn(m, n) + 1j*np.random.randn(m, n) for _ in range(k)]) ## k x m x n\n",
    "    e = np.zeros((len(x), n), dtype=complex) ## record error\n",
    "\n",
    "    for i in range(k, len(x)):\n",
    "        y_hat = np.zeros((n), dtype=complex)\n",
    "        for j in range(k):\n",
    "            y_hat += np.dot(x[i-j], w[j])\n",
    "        error = y[i] - y_hat \n",
    "        e[i] = error\n",
    "        for j in range(k):\n",
    "            ### update w[j], using wirtinger derivative\n",
    "            w[j] += mu * np.outer(np.conj(x[i-j]) , error)\n",
    "        Ws.append(w.reshape(k, m, n).copy())\n",
    "    return w,e, Ws\n"
   ]
  },
  {
   "cell_type": "code",
   "execution_count": 164,
   "metadata": {},
   "outputs": [
    {
     "name": "stdout",
     "output_type": "stream",
     "text": [
      "Estimated coefficients: [[-0.36501639-1.50914096j  0.59478804+0.64064571j]\n",
      " [-1.66380618-0.97273044j -0.69797699-0.86363545j]\n",
      " [ 1.13673211-0.87572423j  1.86862167-0.43693172j]]\n",
      "True coefficients: [[-0.35882895-1.51117956j  0.6034716 +0.64484751j]\n",
      " [-1.66478853-0.98060789j -0.70017904-0.85685315j]\n",
      " [ 1.15139101-0.87187918j  1.85733101-0.42250793j]]\n"
     ]
    }
   ],
   "source": [
    "w,e, Ws = lms_filter(x, y, k, 0.05)\n",
    "print(\"Estimated coefficients:\", w[1])\n",
    "print (\"True coefficients:\", true_coefficients[1])"
   ]
  },
  {
   "cell_type": "code",
   "execution_count": 160,
   "metadata": {},
   "outputs": [
    {
     "data": {
      "text/plain": [
       "array([ 5.45087576-0.99003013j, -0.76182188+0.36619373j])"
      ]
     },
     "execution_count": 160,
     "metadata": {},
     "output_type": "execute_result"
    }
   ],
   "source": [
    "y[4]"
   ]
  },
  {
   "cell_type": "code",
   "execution_count": 161,
   "metadata": {},
   "outputs": [
    {
     "name": "stdout",
     "output_type": "stream",
     "text": [
      "[ 2.51854698+0.13627228j -1.0545789 -0.06986256j]\n"
     ]
    }
   ],
   "source": [
    "print( np.dot(x[4], true_coefficients[0]) ) "
   ]
  },
  {
   "cell_type": "code",
   "execution_count": 162,
   "metadata": {},
   "outputs": [
    {
     "data": {
      "text/plain": [
       "array([[[ 0.43650742-0.89897926j, -0.32068658-0.57703637j],\n",
       "        [ 2.41565879+0.19618413j, -0.26626511-0.333288j  ],\n",
       "        [ 0.10014935-1.2030087j ,  1.57368391-0.20778811j]],\n",
       "\n",
       "       [[-0.35376631-1.50558865j,  0.60979032+0.64189298j],\n",
       "        [-1.67154166-0.99366809j, -0.68560852-0.83954914j],\n",
       "        [ 1.15058299-0.87669545j,  1.83168272-0.4162798j ]]])"
      ]
     },
     "execution_count": 162,
     "metadata": {},
     "output_type": "execute_result"
    }
   ],
   "source": [
    "Ws[300]"
   ]
  },
  {
   "cell_type": "code",
   "execution_count": 163,
   "metadata": {},
   "outputs": [
    {
     "data": {
      "text/plain": [
       "(3, 2)"
      ]
     },
     "execution_count": 163,
     "metadata": {},
     "output_type": "execute_result"
    }
   ],
   "source": [
    "true_coefficients[0].shape"
   ]
  },
  {
   "cell_type": "code",
   "execution_count": null,
   "metadata": {},
   "outputs": [],
   "source": []
  }
 ],
 "metadata": {
  "kernelspec": {
   "display_name": "Python 3",
   "language": "python",
   "name": "python3"
  },
  "language_info": {
   "codemirror_mode": {
    "name": "ipython",
    "version": 3
   },
   "file_extension": ".py",
   "mimetype": "text/x-python",
   "name": "python",
   "nbconvert_exporter": "python",
   "pygments_lexer": "ipython3",
   "version": "3.11.9"
  }
 },
 "nbformat": 4,
 "nbformat_minor": 2
}
