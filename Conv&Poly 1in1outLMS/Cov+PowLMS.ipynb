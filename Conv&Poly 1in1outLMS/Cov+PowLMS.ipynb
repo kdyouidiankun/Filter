{
 "cells": [
  {
   "cell_type": "markdown",
   "metadata": {},
   "source": [
    "###  Dim Configuration\n",
    "input x = 1 x n_samples -conv-> 1 x n_samples -Pow + Sum >  1 x n_samples = resut y"
   ]
  },
  {
   "cell_type": "code",
   "execution_count": 10,
   "metadata": {},
   "outputs": [],
   "source": [
    "### Generate data\n",
    "import numpy as np\n",
    "def Convolution(X, k, ConvW):\n",
    "    \"\"\"\n",
    "    k is and odd number\n",
    "    :param X: 1 x k, center is the current state\n",
    "    :param k: kernel size\n",
    "    :param ConvW: 1 x k\n",
    "\n",
    "    :return: 1 x n_samples\n",
    "    \"\"\"\n",
    "    y = np.zeros(1, dtype = np.complex128)\n",
    "    for i in range(k):\n",
    "\n",
    "        y += ConvW[i] * X[i]\n",
    "    return y\n",
    "\n",
    "def Polynomial(X, p ,PolyW, scaling_factor=0.05):\n",
    "    \"\"\"\n",
    "    :param X: 1 x 1, complex number\n",
    "    :param p: polynomial order, p = 3 means 1, 3, 5 \n",
    "    :param PolyW: 1 x p coefficients\n",
    "    :return: y : 1 x 1 complex number\n",
    "    \"\"\"\n",
    "    ### PolyW should initailized small values to avoid large y values\n",
    "    y = np.zeros(1,dtype = np.complex128)\n",
    "    for i in range(p):\n",
    "        y += PolyW[i]  * np.pow(np.abs(X * scaling_factor), i) * X\n",
    "    return y\n",
    "\n",
    "def Noise(X, noise_level):\n",
    "    \"\"\"\n",
    "    :param X: 1 x 1, complex number\n",
    "    :param noise_level: noise level\n",
    "    :return: y: 1 x 1\n",
    "    \"\"\"\n",
    "    return X + noise_level * np.random.randn(1)\n",
    "\n",
    "def generate_data(n_samples, ConvW, PolyW, noise_level = 0.05, k = 3, p = 3 ):\n",
    "    # generate complex data\n",
    "\n",
    "    x = np.random.rand(n_samples) + 1j * np.random.rand(n_samples)  #  1 x n_samples\n",
    "\n",
    "    ### Convolution\n",
    "    ConvX = np.zeros(n_samples, dtype = np.complex128)\n",
    "    for i in range(k//2, n_samples-k//2):\n",
    "        ### turn into scalar\n",
    "        # np\n",
    "        # np\n",
    "        ConvX[i] = np.array((Convolution(x[i-k//2:i+k//2+1], k, ConvW))[0])\n",
    "    ### Noise\n",
    "    # for i in range(k//2, n_samples-k//2):\n",
    "    #     ConvX[i] = Noise(ConvX[i], noise_level)\n",
    "\n",
    "    ### Polynomial\n",
    "    PolyX = np.zeros(n_samples, dtype = np.complex128)\n",
    "    for i in range(n_samples):\n",
    "        PolyX[i] = Polynomial(ConvX[i], p, PolyW)[0]\n",
    "    ### Noise\n",
    "    # for i in range(n_samples):\n",
    "    #     PolyX[i] = Noise(PolyX[i], noise_level)\n",
    "    \n",
    "\n",
    "    y = PolyX\n",
    "    return x, y\n"
   ]
  },
  {
   "cell_type": "markdown",
   "metadata": {},
   "source": [
    "### Generate Data"
   ]
  },
  {
   "cell_type": "code",
   "execution_count": 11,
   "metadata": {},
   "outputs": [
    {
     "name": "stdout",
     "output_type": "stream",
     "text": [
      "[0.64914405+0.46538662j 0.27848728+0.18445508j 0.6762549 +0.77246195j\n",
      " 0.59086282+0.91535143j 0.02398188+0.71798135j]\n",
      "[ 0.        +0.j         -0.04062887+0.29855118j -0.26269059+0.68752003j\n",
      " -0.37295454+0.68997297j -0.4438131 +0.33229489j]\n"
     ]
    }
   ],
   "source": [
    "\n",
    "##  True parameters, complex \n",
    "scaling_factor = 0.1\n",
    "n_samples = 5000\n",
    "k = 3\n",
    "p = 3 \n",
    "noise_level = 0.05\n",
    "## set seed\n",
    "np.random.seed(3)\n",
    "\n",
    "TruePolyW = np.random.rand(p) + 1j * np.random.rand(p)\n",
    "for i in range(p):\n",
    "    TruePolyW[i] = np.power(scaling_factor, i) * TruePolyW[i]\n",
    "TrueConvW = np.random.rand(k) + 1j * np.random.rand(k)\n",
    "\n",
    "# b = np.array([0.06799017+0.j        , 0.82173153+0.26699676j,\n",
    "#        0.0550052 +0.03996362j])\n",
    "# TrueConvW = b \n",
    "\n",
    "\n",
    "x, y = generate_data(n_samples, TrueConvW, TruePolyW, noise_level, k,p)\n",
    "print(x[:5])\n",
    "print(y[:5])\n"
   ]
  },
  {
   "cell_type": "markdown",
   "metadata": {},
   "source": [
    "### Model Designing"
   ]
  },
  {
   "cell_type": "code",
   "execution_count": 12,
   "metadata": {},
   "outputs": [],
   "source": [
    "### LMS \n",
    "def LMS_Filter(x, y, k, p, mu = 0.01, epoch = 10, scalingFactor = 0.1):    \n",
    "    \"\"\"\n",
    "    :param x: 1 x n_samples\n",
    "    :param y: 1 x n_samples\n",
    "    :param k: kernel size\n",
    "    :param p: polynomial order\n",
    "    :param mu: learning rate\n",
    "    :return: (ConvW, PolyW)\n",
    "    \"\"\"\n",
    "    ### Initialization\n",
    "    n_samples = len(x)\n",
    "    ConvW = np.random.rand(k) + 1j * np.random.rand(k)\n",
    "    PolyW = np.random.rand(p) + 1j * np.random.rand(p)\n",
    "    for i in range(p):\n",
    "        PolyW[i] = np.power(scalingFactor, i) * PolyW[i]\n",
    "\n",
    "    ### LMS\n",
    "    PolyRecord = []    \n",
    "    ConvRecord = []\n",
    "    ErrorRecord = []\n",
    "\n",
    "    for j in range(epoch):\n",
    "        for i in range(k//2, n_samples-k//2):\n",
    "            \n",
    "            # calculate error \n",
    "            ConvX = Convolution(x[i-k//2:i+k//2+1], k, ConvW)\n",
    "            PolyX = Polynomial(ConvX, p, PolyW)\n",
    "            e = y[i] - PolyX\n",
    "            # print(\"e1\", np.abs(e))\n",
    "\n",
    "\n",
    "            # update coefficients\n",
    "            ## PolyW\n",
    "            PolyW += mu *  e * np.conj(ConvX )\n",
    "\n",
    "            # calculate error\n",
    "            ConvX = Convolution(x[i-k//2:i+k//2+1], k, ConvW)\n",
    "            PolyX = Polynomial(ConvX, p, PolyW)\n",
    "            e = y[i] - PolyX\n",
    "            # print(\"e2\", np.abs(e))\n",
    "\n",
    "            ## ConvW\n",
    "            StarPart = np.zeros(p, dtype = np.complex128)\n",
    "            NonStarPart = np.zeros(p, dtype = np.complex128)\n",
    "            for l in range(p):\n",
    "                StarPart[l] = (l+1) * np.power(np.abs(ConvX), l)[0] \n",
    "                if(l == 0):          \n",
    "                    NonStarPart[l] = 0\n",
    "                else :\n",
    "                    NonStarPart[l] = l * np.power(ConvX, 2)[0] * np.power(np.abs(ConvX), l-1)[0]\n",
    "            \n",
    "            ConvW += mu *  e * np.dot(np.conj(PolyW) , StarPart) * np.conj(x[i-k//2:i+k//2+1]) +\\\n",
    "                mu * np.conj(e) * np.dot(PolyW, NonStarPart) * np.conj(x[i-k//2:i+k//2+1])\n",
    "            \n",
    "            # calculate error\n",
    "            ConvX = Convolution(x[i-k//2:i+k//2+1], k, ConvW)\n",
    "            PolyX = Polynomial(ConvX, p, PolyW)\n",
    "            e = y[i] - PolyX\n",
    "            # print(\"e3\", np.abs(e))\n",
    "            \n",
    "            ### calculate total error\n",
    "            # print(i)\n",
    "            if i % 100 ==  0 : \n",
    "                ERROR = np.zeros(1, dtype = np.complex128)\n",
    "                for l in range(k//2, n_samples-k//2):\n",
    "                    ConvX = Convolution(x[l-k//2:l+k//2+1], k, ConvW)\n",
    "                    PolyX = Polynomial(ConvX, p, PolyW)\n",
    "                    e = y[l] - PolyX\n",
    "                    ERROR += np.abs(e)\n",
    "                ErrorRecord.append(np.abs(ERROR))\n",
    "\n",
    "            ConvRecord.append(ConvW.copy())\n",
    "            PolyRecord.append(PolyW.copy())\n",
    "    return ConvRecord, PolyRecord, ErrorRecord\n"
   ]
  },
  {
   "cell_type": "markdown",
   "metadata": {},
   "source": [
    "### Example "
   ]
  },
  {
   "cell_type": "code",
   "execution_count": 13,
   "metadata": {},
   "outputs": [],
   "source": [
    "### Example usage\n",
    "ConvRecord, PolyRecord,ErrorRecord = LMS_Filter(x, y, k,p, mu = 0.01, epoch = 10, scalingFactor = 0.1)"
   ]
  },
  {
   "cell_type": "code",
   "execution_count": 14,
   "metadata": {},
   "outputs": [
    {
     "name": "stdout",
     "output_type": "stream",
     "text": [
      "True ConvW:  [0.06799017+0.j         0.82173153+0.26699676j 0.0550052 +0.03996362j]\n",
      "Estimated ConvW:  [-0.04400569+0.02143903j -0.58032445+0.08637138j -0.04807707-0.00770597j]\n",
      "True PolyW:  [0.5507979 +0.51082761j 0.07081478+0.0892947j  0.00290905+0.00896293j]\n",
      "Estimated PolyW:  [-0.3764051 -0.99295136j -0.45870633-1.4124426j  -0.52495708-1.41071358j]\n"
     ]
    }
   ],
   "source": [
    "### print results\n",
    "print(\"True ConvW: \", TrueConvW)\n",
    "print(\"Estimated ConvW: \", ConvRecord[-1])\n",
    "print(\"True PolyW: \", TruePolyW)\n",
    "print(\"Estimated PolyW: \", PolyRecord[-1])\n"
   ]
  },
  {
   "cell_type": "markdown",
   "metadata": {},
   "source": [
    "### Plot "
   ]
  },
  {
   "cell_type": "code",
   "execution_count": 15,
   "metadata": {},
   "outputs": [
    {
     "data": {
      "image/png": "[encoded data removed]",
      "text/plain": [
       "<Figure size 640x480 with 1 Axes>"
      ]
     },
     "metadata": {},
     "output_type": "display_data"
    }
   ],
   "source": [
    "### plot the coefficients\n",
    "import matplotlib.pyplot as plt\n",
    "plt.figure()\n",
    "plt.plot(ErrorRecord)\n",
    "plt.xlabel(\"*1000 times\")\n",
    "plt.ylabel(\"Total Abs(Error)\")\n",
    "plt.title(\" Conv + Poly LMS Error\")\n",
    "plt.show()  \n"
   ]
  },
  {
   "cell_type": "code",
   "execution_count": 16,
   "metadata": {},
   "outputs": [
    {
     "data": {
      "text/plain": [
       "array([0.00391208])"
      ]
     },
     "execution_count": 16,
     "metadata": {},
     "output_type": "execute_result"
    }
   ],
   "source": [
    "ErrorRecord[-1] / n_samples"
   ]
  },
  {
   "cell_type": "code",
   "execution_count": 17,
   "metadata": {},
   "outputs": [
    {
     "data": {
      "image/png": "[encoded data removed]",
      "text/plain": [
       "<Figure size 640x480 with 1 Axes>"
      ]
     },
     "metadata": {},
     "output_type": "display_data"
    },
    {
     "ename": "",
     "evalue": "",
     "output_type": "error",
     "traceback": [
      "\u001b[1;31mThe Kernel crashed while executing code in the current cell or a previous cell. \n",
      "\u001b[1;31mPlease review the code in the cell(s) to identify a possible cause of the failure. \n",
      "\u001b[1;31mClick <a href='https://aka.ms/vscodeJupyterKernelCrash'>here</a> for more info. \n",
      "\u001b[1;31mView Jupyter <a href='command:jupyter.viewOutput'>log</a> for further details."
     ]
    }
   ],
   "source": [
    "### save plot \n",
    "plt.figure()\n",
    "plt.plot(ErrorRecord)\n",
    "plt.xlabel(\"*1000 times\")\n",
    "plt.ylabel(\"Total Abs(Error)\")\n",
    "plt.title(\" Conv + Poly LMS Error\")\n",
    "plt.savefig(\"ConvPolyLMS.png\")"
   ]
  },
  {
   "cell_type": "code",
   "execution_count": null,
   "metadata": {},
   "outputs": [],
   "source": []
  }
 ],
 "metadata": {
  "kernelspec": {
   "display_name": "Python 3",
   "language": "python",
   "name": "python3"
  },
  "language_info": {
   "codemirror_mode": {
    "name": "ipython",
    "version": 3
   },
   "file_extension": ".py",
   "mimetype": "text/x-python",
   "name": "python",
   "nbconvert_exporter": "python",
   "pygments_lexer": "ipython3",
   "version": "3.11.9"
  }
 },
 "nbformat": 4,
 "nbformat_minor": 2
}
