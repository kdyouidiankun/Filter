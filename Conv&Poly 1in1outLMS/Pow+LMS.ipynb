{
 "cells": [
  {
   "cell_type": "markdown",
   "metadata": {},
   "source": [
    "###  Dim Configuration\n",
    "input x = 1 x n_samples   \n",
    "    -Pow + Sum >  \n",
    "1 x n samples \n",
    "    -conv-> \n",
    "1 x n_samples x n_samples = resut y"
   ]
  },
  {
   "cell_type": "code",
   "execution_count": 67,
   "metadata": {},
   "outputs": [],
   "source": [
    "### Generate data\n",
    "import numpy as np\n",
    "def Convolution(X, k, ConvW):\n",
    "    \"\"\"\n",
    "    k is and odd number\n",
    "    :param X: 1 x k, center is the current state\n",
    "    :param k: kernel size\n",
    "    :param ConvW: 1 x k\n",
    "\n",
    "    :return: 1 x n_samples\n",
    "    \"\"\"\n",
    "    y = np.zeros(1, dtype = np.complex128)\n",
    "    for i in range(k):\n",
    "\n",
    "        y += ConvW[i] * X[i]\n",
    "    return y\n",
    "\n",
    "def Polynomial(X, p ,PolyW, scaling_factor=0.1):\n",
    "    \"\"\"\n",
    "    :param X: 1 x 1, complex number\n",
    "    :param p: polynomial order, p = 3 means 1, 3, 5 \n",
    "    :param PolyW: 1 x p coefficients\n",
    "    :return: y : 1 x 1 complex number\n",
    "    \"\"\"\n",
    "    ### PolyW should initailized small values to avoid large y values\n",
    "    y = np.zeros(1,dtype = np.complex128)\n",
    "    for i in range(p):\n",
    "        y += PolyW[i]  * np.pow(np.abs(X * scaling_factor), i) * X\n",
    "    return y\n",
    "\n",
    "def Noise(X, noise_level):\n",
    "    \"\"\"\n",
    "    :param X: 1 x 1, complex number\n",
    "    :param noise_level: noise level\n",
    "    :return: y: 1 x 1\n",
    "    \"\"\"\n",
    "    return X + noise_level * np.random.randn(1)\n",
    "\n",
    "def generate_data(n_samples, ConvW, PolyW, noise_level = 0.05, k = 3, p = 3 ):\n",
    "    # generate complex data\n",
    "\n",
    "    x = np.random.rand(n_samples) + 1j * np.random.rand(n_samples)  #  1 x n_samples\n",
    "\n",
    "\n",
    "    ### Polynomial\n",
    "    PolyX = np.zeros(n_samples, dtype = np.complex128)\n",
    "    for i in range(n_samples):\n",
    "        PolyX[i] = Polynomial(x[i], p, PolyW)[0]\n",
    "    ### Noise\n",
    "    # for i in range(n_samples):\n",
    "    #     PolyX[i] = Noise(PolyX[i], noise_level)\n",
    "\n",
    "    ### Convolution\n",
    "    ConvX = np.zeros(n_samples, dtype = np.complex128)\n",
    "    for i in range(k//2, n_samples-k//2):\n",
    "        ConvX[i] = np.array((Convolution(PolyX[i-k//2:i+k//2+1], k, ConvW))[0])\n",
    "\n",
    "    ### Noise\n",
    "    # for i in range(n_samples):\n",
    "    #     ConvX[i] = Noise(ConvX[i], noise_level)\n",
    "    \n",
    "\n",
    "    y = ConvX\n",
    "    return x, y\n"
   ]
  },
  {
   "cell_type": "markdown",
   "metadata": {},
   "source": [
    "### Generate Data"
   ]
  },
  {
   "cell_type": "code",
   "execution_count": 68,
   "metadata": {},
   "outputs": [
    {
     "name": "stdout",
     "output_type": "stream",
     "text": [
      "[0.02398188+0.71798135j 0.55885409+0.74973634j 0.25925245+0.47610756j\n",
      " 0.4151012 +0.54507576j 0.28352508+0.34640902j]\n",
      "[ 0.        +0.j          0.        +0.j         -1.3975364 +0.16755742j\n",
      " -1.5310033 +0.17705797j -1.69079471+0.33324989j]\n"
     ]
    }
   ],
   "source": [
    "\n",
    "##  True parameters, complex \n",
    "scaling_factor = 0.1\n",
    "n_samples = 5000\n",
    "k = 3\n",
    "p = 3 \n",
    "noise_level = 0.05\n",
    "## set seed\n",
    "np.random.seed(3)\n",
    "\n",
    "TruePolyW = np.random.rand(p) + 1j * np.random.rand(p)\n",
    "for i in range(p):\n",
    "    TruePolyW[i] = np.power(scaling_factor, i) * TruePolyW[i]\n",
    "TrueConvW = np.random.rand(k) + 1j * np.random.rand(k)\n",
    "\n",
    "\n",
    "x, y = generate_data(n_samples, TrueConvW, TruePolyW, noise_level, k,p)\n",
    "print(x[:5])\n",
    "print(y[:5])\n"
   ]
  },
  {
   "cell_type": "markdown",
   "metadata": {},
   "source": [
    "### Model Designing"
   ]
  },
  {
   "cell_type": "code",
   "execution_count": 69,
   "metadata": {},
   "outputs": [],
   "source": [
    "### LMS \n",
    "def LMS_Filter(x, y, k, p, mu = 0.01, epoch = 10, scalingFactor = 0.1):    \n",
    "    \"\"\"\n",
    "    :param x: 1 x n_samples\n",
    "    :param y: 1 x n_samples\n",
    "    :param k: kernel size\n",
    "    :param p: polynomial order\n",
    "    :param mu: learning rate\n",
    "    :return: (ConvW, PolyW)\n",
    "    \"\"\"\n",
    "    ### Initialization\n",
    "    n_samples = len(x)\n",
    "    ConvW = np.random.rand(k) + 1j * np.random.rand(k)\n",
    "    PolyW = np.random.rand(p) + 1j * np.random.rand(p)\n",
    "    for i in range(p):\n",
    "        PolyW[i] = np.power(scalingFactor, i) * PolyW[i]\n",
    "\n",
    "    ### LMS\n",
    "    PolyRecord = []    \n",
    "    ConvRecord = []\n",
    "    ErrorRecord = []\n",
    "\n",
    "\n",
    "    for j in range(epoch):\n",
    "        for i in range(k//2, n_samples-k//2):\n",
    "            \n",
    "            # calculate error \n",
    "            PolyXs = np.zeros(k, dtype = np.complex128)\n",
    "            for l in range(k):\n",
    "                PolyXs[l] = Polynomial(x[i - k // 2 + l], p, PolyW)[0]\n",
    "            ConvX = Convolution(PolyXs, k, ConvW)\n",
    "            e = y[i] - ConvX\n",
    "\n",
    "            # update coefficients\n",
    "            ## ConvW\n",
    "            ConvW += mu * e * np.conj(PolyXs)\n",
    "\n",
    "            PolyXs = np.zeros(k, dtype = np.complex128)\n",
    "            for l in range(k):\n",
    "                PolyXs[l] = Polynomial(x[i - k // 2 + l], p, PolyW)[0]\n",
    "            ConvX = Convolution(PolyXs, k, ConvW)\n",
    "            e = y[i] - ConvX\n",
    "\n",
    "\n",
    "            ## PolyW\n",
    "            PartialKXP = np.zeros((k,p), dtype = np.complex128)\n",
    "            for l in range(k):\n",
    "                for m in range(p):\n",
    "                    PartialKXP[l,m] = np.power(np.abs(x[i - k // 2 + l] * scalingFactor), m) * x[i - k // 2 + l]\n",
    "\n",
    "            PolyW += mu * e * (np.dot( np.conj(ConvW), np.conj(PartialKXP)))\n",
    "\n",
    "\n",
    "            PolyXs = np.zeros(k, dtype = np.complex128)\n",
    "            for l in range(k):\n",
    "                PolyXs[l] = Polynomial(x[i - k // 2 + l], p, PolyW)[0]\n",
    "            ConvX = Convolution(PolyXs, k, ConvW)\n",
    "            e = y[i] - ConvX\n",
    "            \n",
    "            ### calculate total error\n",
    "            # print(i)\n",
    "            if i % 100 ==  0 : \n",
    "                ERROR = np.zeros(1, dtype = np.complex128)\n",
    "                for l in range(k//2, n_samples-k//2):\n",
    "                    ConvX = Convolution(x[l-k//2:l+k//2+1], k, ConvW)\n",
    "                    PolyX = Polynomial(ConvX, p, PolyW)\n",
    "                    e = y[l] - PolyX\n",
    "                    ERROR += np.abs(e)\n",
    "                ErrorRecord.append(np.abs(ERROR))\n",
    "\n",
    "            ConvRecord.append(ConvW.copy())\n",
    "            PolyRecord.append(PolyW.copy())\n",
    "    return ConvRecord, PolyRecord, ErrorRecord\n"
   ]
  },
  {
   "cell_type": "markdown",
   "metadata": {},
   "source": [
    "### Example Usage"
   ]
  },
  {
   "cell_type": "code",
   "execution_count": 70,
   "metadata": {},
   "outputs": [],
   "source": [
    "ConvRecord, PolyRecord, ErrorRecord = LMS_Filter(x, y, k, p, mu = 0.01, epoch = 10, scalingFactor = 0.1)"
   ]
  },
  {
   "cell_type": "markdown",
   "metadata": {},
   "source": [
    "### Plot"
   ]
  },
  {
   "cell_type": "code",
   "execution_count": 75,
   "metadata": {},
   "outputs": [
    {
     "data": {
      "image/png": "[encoded data removed]",
      "text/plain": [
       "<Figure size 640x480 with 1 Axes>"
      ]
     },
     "metadata": {},
     "output_type": "display_data"
    }
   ],
   "source": [
    "### plot the coefficients\n",
    "import matplotlib.pyplot as plt\n",
    "plt.figure()\n",
    "plt.plot(ErrorRecord)\n",
    "plt.xlabel(\"*1000 times\")\n",
    "plt.ylabel(\"Total Abs(Error)\")\n",
    "plt.title(\"Poly + Conv LMS Error\")\n",
    "plt.show()  \n"
   ]
  },
  {
   "cell_type": "code",
   "execution_count": 73,
   "metadata": {},
   "outputs": [
    {
     "data": {
      "text/plain": [
       "array([80.56208622])"
      ]
     },
     "execution_count": 73,
     "metadata": {},
     "output_type": "execute_result"
    }
   ],
   "source": [
    "ErrorRecord[-1] "
   ]
  },
  {
   "cell_type": "code",
   "execution_count": 76,
   "metadata": {},
   "outputs": [
    {
     "data": {
      "text/plain": [
       "array([83.9987157])"
      ]
     },
     "execution_count": 76,
     "metadata": {},
     "output_type": "execute_result"
    }
   ],
   "source": [
    "ErrorRecord[-10] "
   ]
  },
  {
   "cell_type": "code",
   "execution_count": 77,
   "metadata": {},
   "outputs": [
    {
     "data": {
      "text/plain": [
       "array([77.44409262])"
      ]
     },
     "execution_count": 77,
     "metadata": {},
     "output_type": "execute_result"
    }
   ],
   "source": [
    "ErrorRecord[-100] "
   ]
  },
  {
   "cell_type": "code",
   "execution_count": null,
   "metadata": {},
   "outputs": [],
   "source": []
  }
 ],
 "metadata": {
  "kernelspec": {
   "display_name": "Python 3",
   "language": "python",
   "name": "python3"
  },
  "language_info": {
   "codemirror_mode": {
    "name": "ipython",
    "version": 3
   },
   "file_extension": ".py",
   "mimetype": "text/x-python",
   "name": "python",
   "nbconvert_exporter": "python",
   "pygments_lexer": "ipython3",
   "version": "3.11.9"
  }
 },
 "nbformat": 4,
 "nbformat_minor": 2
}
