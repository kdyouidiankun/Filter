{
 "cells": [
  {
   "cell_type": "code",
   "execution_count": 274,
   "metadata": {},
   "outputs": [
    {
     "name": "stdout",
     "output_type": "stream",
     "text": [
      "Input signal: [[-1.51117956  0.64484751 -0.98060789]\n",
      " [-0.85685315 -0.87187918 -0.42250793]\n",
      " [ 0.99643983  0.71242127  0.05914424]]\n",
      "Desired signal: [[ 1.81242895 -3.35496384]\n",
      " [-0.17710772  0.18933495]\n",
      " [-0.17104656 -0.85839093]]\n"
     ]
    }
   ],
   "source": [
    "### generate data\n",
    "import numpy as np\n",
    "np.random.seed(5)\n",
    "\n",
    "def generate_data(n_samples, true_coefficients, noise_level=0.1):\n",
    "\n",
    "    # Generate a random input signal\n",
    "    k = len(true_coefficients)\n",
    "    m, n = true_coefficients[0].shape\n",
    "\n",
    "    x = np.random.randn(n_samples, m)\n",
    "\n",
    "    # Generate the desired signal by passing the input through the known system\n",
    "    y = np.zeros((n_samples, n)) \n",
    "\n",
    "    for j in range(k):\n",
    "        y += np.dot(x, true_coefficients[j]) \n",
    "    y += noise_level * np.random.randn(n_samples, n)\n",
    "    \n",
    "    return x, y\n",
    "\n",
    "# Example usage\n",
    "n_samples = 3000\n",
    "# a series of matrix: k x m x n \n",
    "# k : influence scope 5\n",
    "# m : output dimension  3\n",
    "# n : input dimension 2\n",
    "\n",
    "k = 3\n",
    "m = 3\n",
    "n = 2\n",
    "true_coefficients = [np.random.randn(m,n) for _ in range(k)]\n",
    "noise_level = 0.1\n",
    "x, y = generate_data(n_samples, true_coefficients, noise_level)\n",
    "print(\"Input signal:\", x[:3])\n",
    "print(\"Desired signal:\", y[:3])"
   ]
  },
  {
   "cell_type": "code",
   "execution_count": 275,
   "metadata": {},
   "outputs": [],
   "source": [
    "### using kalman filter to estimate the coefficients\n",
    "def kalman_filter(x, y, k):\n",
    "    n_samples = len(y)\n",
    "    m = x.shape[1]\n",
    "    n = y.shape[1]\n",
    "    \n",
    "    # Initialize the state estimate\n",
    "    # Initialize w: k x m x n randomly\n",
    "    w = np.ones((k, m, n)) * 0.1\n",
    "\n",
    "    # PQR matrices, initialized as identity matrices, each one is k x n x n\n",
    "    P = np.array([np.eye(m*n) for _ in range(k)]) * 1\n",
    "    # Q = np.array([np.eye(m*n) for _ in range(k)]) * 0.01\n",
    "    R = np.array([np.eye(n) for _ in range(k)]) * 1\n",
    "    \n",
    "\n",
    "    for i in range(k, n_samples):\n",
    "        # Predict\n",
    "        for j in range(k):\n",
    "            ## w[j] add some samll noise\n",
    "            # w[j] = w[j] +  np.random.randn(m, n) * 0.01\n",
    "            # P[j] = P[j] \n",
    "            pass \n",
    "        \n",
    "        # Update\n",
    "        \n",
    "        ### error \n",
    "        y_hat = np.zeros(n)\n",
    "        for j in range(k):\n",
    "            y_hat += np.dot(x[i-j], w[j])\n",
    "        \n",
    "        \n",
    "        for j in range(k):\n",
    "            ## w[j] add K[j] * e\n",
    "            W_temp = w[j].T.reshape(-1,1) \n",
    "            H_temp = np.zeros((n, m*n))\n",
    "            for l in range(n):\n",
    "                H_temp[l, m*l:m*(l+1)] = x[i-j] \n",
    "            S = np.dot(H_temp, np.dot(P[j], H_temp.T)) + R[j]\n",
    "            K = np.dot(P[j], np.dot(H_temp.T, np.linalg.inv(S))) \n",
    "\n",
    "            e = y[i] - y_hat\n",
    "            W_temp += np.dot(K.reshape(m*n, n), e.reshape(-1,1)) \n",
    "            w[j] = W_temp.reshape(n, m).T\n",
    "\n",
    "            P[j] = np.dot((np.eye(m*n) - np.dot(K, H_temp)), P[j]) ### P is reasonable \n",
    "            \n",
    "        # if i % 5 == 0:\n",
    "        #     print(w[0])\n",
    "            \n",
    "    return w"
   ]
  },
  {
   "cell_type": "code",
   "execution_count": 276,
   "metadata": {},
   "outputs": [
    {
     "name": "stdout",
     "output_type": "stream",
     "text": [
      "True coefficients: [array([[ 0.44122749, -0.33087015],\n",
      "       [ 2.43077119, -0.25209213],\n",
      "       [ 0.10960984,  1.58248112]]), array([[-0.9092324 , -0.59163666],\n",
      "       [ 0.18760323, -0.32986996],\n",
      "       [-1.19276461, -0.20487651]]), array([[-0.35882895,  0.6034716 ],\n",
      "       [-1.66478853, -0.70017904],\n",
      "       [ 1.15139101,  1.85733101]])]\n",
      "Estimated coefficients: [[[-8.26590946e-01 -3.19142012e-01]\n",
      "  [ 9.53283496e-01 -1.28104783e+00]\n",
      "  [ 7.09839709e-02  3.23331678e+00]]\n",
      "\n",
      " [[ 1.48926721e-03 -1.62751132e-03]\n",
      "  [ 1.72398561e-03 -7.33191680e-04]\n",
      "  [ 9.51154978e-04 -7.43039109e-04]]\n",
      "\n",
      " [[ 2.35571134e-04  1.79263547e-03]\n",
      "  [-1.54525643e-03 -3.99609075e-04]\n",
      "  [ 3.32950607e-03 -7.44665759e-04]]]\n"
     ]
    }
   ],
   "source": [
    "## Example usage\n",
    "\n",
    "estimated_coefficients = kalman_filter(x, y, k)\n",
    "print(\"True coefficients:\", true_coefficients)\n",
    "print(\"Estimated coefficients:\", estimated_coefficients)"
   ]
  },
  {
   "cell_type": "code",
   "execution_count": null,
   "metadata": {},
   "outputs": [],
   "source": []
  }
 ],
 "metadata": {
  "kernelspec": {
   "display_name": "Python 3",
   "language": "python",
   "name": "python3"
  },
  "language_info": {
   "codemirror_mode": {
    "name": "ipython",
    "version": 3
   },
   "file_extension": ".py",
   "mimetype": "text/x-python",
   "name": "python",
   "nbconvert_exporter": "python",
   "pygments_lexer": "ipython3",
   "version": "3.11.9"
  }
 },
 "nbformat": 4,
 "nbformat_minor": 2
}
