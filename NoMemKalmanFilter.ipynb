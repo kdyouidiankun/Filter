{
 "cells": [
  {
   "cell_type": "code",
   "execution_count": 58,
   "metadata": {},
   "outputs": [
    {
     "name": "stdout",
     "output_type": "stream",
     "text": [
      "Input signal: [[-0.9092324  -0.59163666  0.18760323]\n",
      " [-0.32986996 -1.19276461 -0.20487651]\n",
      " [-0.35882895  0.6034716  -1.66478853]]\n",
      "Desired signal: [[-1.83238084  0.68710999]\n",
      " [-3.04669364  0.08595731]\n",
      " [ 1.18611853 -2.76397773]]\n"
     ]
    }
   ],
   "source": [
    "### generate data\n",
    "import numpy as np\n",
    "np.random.seed(5)\n",
    "\n",
    "def generate_data(n_samples, true_coefficients, noise_level=0.1):\n",
    "\n",
    "    # Generate a random input signal\n",
    "    k = len(true_coefficients)\n",
    "    m, n = true_coefficients[0].shape\n",
    "\n",
    "    x = np.random.randn(n_samples, m)\n",
    "\n",
    "    # Generate the desired signal by passing the input through the known system\n",
    "    y = np.zeros((n_samples, n)) \n",
    "\n",
    "    for j in range(k):\n",
    "        y += np.dot(x, true_coefficients[j]) \n",
    "    y += noise_level * np.random.randn(n_samples, n)\n",
    "    \n",
    "    return x, y\n",
    "\n",
    "# Example usage\n",
    "n_samples = 300\n",
    "# a series of matrix: k x m x n \n",
    "# k : influence scope 5\n",
    "# m : output dimension  3\n",
    "# n : input dimension 2\n",
    "\n",
    "k = 1\n",
    "m = 3\n",
    "n = 2\n",
    "true_coefficients = [np.random.randn(m,n) for _ in range(k)]\n",
    "noise_level = 0.1\n",
    "x, y = generate_data(n_samples, true_coefficients, noise_level)\n",
    "print(\"Input signal:\", x[:3])\n",
    "print(\"Desired signal:\", y[:3])"
   ]
  },
  {
   "cell_type": "code",
   "execution_count": 59,
   "metadata": {},
   "outputs": [],
   "source": [
    "### using kalman filter to estimate the coefficients\n",
    "def kalman_filter(x, y, k):\n",
    "    n_samples = len(y)\n",
    "    m = x.shape[1]\n",
    "    n = y.shape[1]\n",
    "    \n",
    "    # Initialize the state estimate\n",
    "    # Initialize w: k x m x n randomly\n",
    "    w = np.ones((k, m, n)) * 0.1\n",
    "\n",
    "    # PQR matrices, initialized as identity matrices, each one is k x n x n\n",
    "    P = np.array([np.eye(m*n) for _ in range(k)]) * 1\n",
    "    # Q = np.array([np.eye(m*n) for _ in range(k)]) * 0.01\n",
    "    R = np.array([np.eye(n) for _ in range(k)]) * 1\n",
    "    \n",
    "    Ws = [] # record the Ws\n",
    "    for i in range(k, n_samples):\n",
    "        # Predict\n",
    "        \n",
    "        for j in range(k):\n",
    "            ## w[j] add some samll noise\n",
    "            # w[j] = w[j] +  np.random.randn(m, n) * 0.01\n",
    "            # P[j] = P[j] \n",
    "            pass \n",
    "        \n",
    "        # Update\n",
    "        \n",
    "        ### error \n",
    "        y_hat = np.zeros(n)\n",
    "        for j in range(k):\n",
    "            y_hat += np.dot(x[i-j], w[j])\n",
    "        \n",
    "        \n",
    "        for j in range(k):\n",
    "            ## w[j] add K[j] * e\n",
    "            W_temp = w[j].T.reshape(-1,1) \n",
    "            H_temp = np.zeros((n, m*n))\n",
    "            for l in range(n):\n",
    "                H_temp[l, m*l:m*(l+1)] = x[i-j] \n",
    "            S = np.dot(H_temp, np.dot(P[j], H_temp.T)) + R[j]\n",
    "            K = np.dot(P[j], np.dot(H_temp.T, np.linalg.inv(S))) \n",
    "\n",
    "            e = y[i] - y_hat\n",
    "            W_temp += np.dot(K.reshape(m*n, n), e.reshape(-1,1)) \n",
    "            w[j] = W_temp.reshape(n, m).T\n",
    "\n",
    "            P[j] = np.dot((np.eye(m*n) - np.dot(K, H_temp)), P[j]) ### P is reasonable \n",
    "            Ws.append(w[j].copy())\n",
    "        # if i % 5 == 0:\n",
    "        #     print(w[0])\n",
    "            \n",
    "    return w, Ws"
   ]
  },
  {
   "cell_type": "code",
   "execution_count": 60,
   "metadata": {},
   "outputs": [
    {
     "name": "stdout",
     "output_type": "stream",
     "text": [
      "True coefficients: [array([[ 0.44122749, -0.33087015],\n",
      "       [ 2.43077119, -0.25209213],\n",
      "       [ 0.10960984,  1.58248112]])]\n",
      "Estimated coefficients: [[[ 0.43854466 -0.34085512]\n",
      "  [ 2.44063378 -0.24298213]\n",
      "  [ 0.09980496  1.57500669]]]\n"
     ]
    }
   ],
   "source": [
    "## Example usage\n",
    "\n",
    "estimated_coefficients, Ws = kalman_filter(x, y, k)\n",
    "print(\"True coefficients:\", true_coefficients)\n",
    "print(\"Estimated coefficients:\", estimated_coefficients)"
   ]
  },
  {
   "cell_type": "code",
   "execution_count": 61,
   "metadata": {},
   "outputs": [],
   "source": [
    "### save Ws to file\n",
    "import pickle\n",
    "with open(\"NoMemKFWs.pkl\", \"wb\") as f:\n",
    "    pickle.dump(Ws, f)\n"
   ]
  },
  {
   "cell_type": "code",
   "execution_count": 62,
   "metadata": {},
   "outputs": [
    {
     "data": {
      "text/plain": [
       "(3, 2)"
      ]
     },
     "execution_count": 62,
     "metadata": {},
     "output_type": "execute_result"
    }
   ],
   "source": [
    "Ws[0].shape"
   ]
  },
  {
   "cell_type": "code",
   "execution_count": null,
   "metadata": {},
   "outputs": [],
   "source": []
  }
 ],
 "metadata": {
  "kernelspec": {
   "display_name": "Python 3",
   "language": "python",
   "name": "python3"
  },
  "language_info": {
   "codemirror_mode": {
    "name": "ipython",
    "version": 3
   },
   "file_extension": ".py",
   "mimetype": "text/x-python",
   "name": "python",
   "nbconvert_exporter": "python",
   "pygments_lexer": "ipython3",
   "version": "3.11.9"
  }
 },
 "nbformat": 4,
 "nbformat_minor": 2
}
