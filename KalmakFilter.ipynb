{
 "cells": [
  {
   "cell_type": "code",
   "execution_count": null,
   "metadata": {},
   "outputs": [],
   "source": [
    "### generate data\n",
    "import numpy as np\n",
    "\n",
    "def generate_data(n_samples, true_coefficients=[0.1, 0.2, 0.5], noise_std=0.05):\n",
    "\n",
    "    # Generate a random input signal\n",
    "    x = np.random.randn(n_samples)\n",
    "\n",
    "    # Generate the desired signal by passing the input through the known system\n",
    "    y = np.zeros(n_samples)\n",
    "    k = len(true_coefficients)\n",
    "    for i in range(k, n_samples):\n",
    "        if i < k:\n",
    "            y[i] = np.dot(x[:i], true_coefficients[:i]) + np.random.randn() * noise_std\n",
    "        else:\n",
    "            y[i] = np.dot(x[i-k:i], true_coefficients) + np.random.randn() * noise_std\n",
    "    return x, y\n",
    "\n",
    "# Example usage\n",
    "n_samples = 1000\n",
    "true_coefficients = [0.1, 0.2, 0.3]\n",
    "x, y = generate_data(n_samples, true_coefficients, noise_std=0.05)\n",
    "print(\"Input signal:\", x[:5])\n",
    "print(\"Desired signal:\", y[:5])"
   ]
  }
 ],
 "metadata": {
  "language_info": {
   "name": "python"
  }
 },
 "nbformat": 4,
 "nbformat_minor": 2
}
