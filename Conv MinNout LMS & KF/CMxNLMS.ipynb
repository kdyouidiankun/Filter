{
 "cells": [
  {
   "cell_type": "code",
   "execution_count": 1,
   "metadata": {},
   "outputs": [
    {
     "name": "stdout",
     "output_type": "stream",
     "text": [
      "Input signal: [[ 0.99643983+0.44662929j  0.71242127-0.2265968j   0.05914424-0.96532997j]\n",
      " [-0.36331088-1.41035519j  0.00328884+0.53010945j -0.10593044+1.85599642j]\n",
      " [ 0.79305332+2.11510082j -0.63157163+0.51149553j -0.00619491-1.03972511j]]\n",
      "Desired signal: [[-1.9499539 -3.47171794j -1.31378069-1.51771071j]\n",
      " [-1.2222745 -1.7343442j  -0.98263331+2.10901126j]\n",
      " [-0.61794525+3.63097484j  2.80727439-0.67160134j]]\n"
     ]
    }
   ],
   "source": [
    "### generate complex data \n",
    "import numpy as np\n",
    "np.random.seed(5)\n",
    "\n",
    "def generate_data(n_samples, true_coefficients, noise_level=0.1):\n",
    "\n",
    "    # Generate a random input signal\n",
    "    k = len(true_coefficients)\n",
    "    m, n = true_coefficients[0].shape\n",
    "\n",
    "\n",
    "    x = np.random.randn(n_samples, m) + 1j*np.random.randn(n_samples, m)\n",
    "\n",
    "    # Generate the desired signal by passing the input through the known system\n",
    "    y = np.zeros((n_samples, n), dtype=np.complex128)\n",
    "\n",
    "    ### y is complex data\n",
    "    for j in range(k):\n",
    "        y += np.dot(np.roll(x, j, axis=0), true_coefficients[j])\n",
    "\n",
    "    # Add noise\n",
    "    noise = noise_level * np.random.randn(n_samples, n) + 1j*noise_level * np.random.randn(n_samples, n)\n",
    "    y += noise\n",
    "    \n",
    "    return x, y\n",
    "\n",
    "# Example usage\n",
    "n_samples = 100000\n",
    "# a series of matrix: k x m x n \n",
    "# k : influence scope 5\n",
    "# m : output dimension  3\n",
    "# n : input dimension 2\n",
    "\n",
    "k = 2\n",
    "m = 3\n",
    "n = 2\n",
    "## coef is complex \n",
    "true_coefficients = [np.random.randn(m, n) + 1j*np.random.randn(m, n) for _ in range(k)]\n",
    "\n",
    "noise_level = 0.05\n",
    "x, y = generate_data(n_samples, true_coefficients, noise_level)\n",
    "print(\"Input signal:\", x[:3])\n",
    "print(\"Desired signal:\", y[:3])"
   ]
  },
  {
   "cell_type": "code",
   "execution_count": 2,
   "metadata": {},
   "outputs": [],
   "source": [
    "### LMS filter\n",
    "k = len(true_coefficients)\n",
    "def lms_filter(x, y, k, mu ):\n",
    "    Ws = [] \n",
    "    m, n = x.shape[1], y.shape[1]\n",
    "    w = np.array([np.random.randn(m, n) + 1j*np.random.randn(m, n) for _ in range(k)]) ## k x m x n\n",
    "    e = np.zeros((len(x), n), dtype=complex) ## record error\n",
    "\n",
    "    for i in range(k, len(x)):\n",
    "        y_hat = np.zeros((n), dtype=complex)\n",
    "        for j in range(k):\n",
    "            y_hat += np.dot(x[i-j], w[j])\n",
    "        error = y[i] - y_hat \n",
    "        e[i] = error\n",
    "        for j in range(k):\n",
    "            ### update w[j], using wirtinger derivative\n",
    "            w[j] += mu * np.outer(np.conj(x[i-j]) , error)\n",
    "        Ws.append(w.reshape(k, m, n).copy())\n",
    "    return w,e, Ws\n"
   ]
  },
  {
   "cell_type": "code",
   "execution_count": 3,
   "metadata": {},
   "outputs": [
    {
     "name": "stdout",
     "output_type": "stream",
     "text": [
      "Estimated coefficients: [[-0.36436974-1.51473762j  0.60379671+0.64909497j]\n",
      " [-1.66129671-0.989564j   -0.7028862 -0.85923641j]\n",
      " [ 1.15555508-0.8717776j   1.86323032-0.42082512j]]\n",
      "True coefficients: [[-0.35882895-1.51117956j  0.6034716 +0.64484751j]\n",
      " [-1.66478853-0.98060789j -0.70017904-0.85685315j]\n",
      " [ 1.15139101-0.87187918j  1.85733101-0.42250793j]]\n"
     ]
    }
   ],
   "source": [
    "w,e, Ws = lms_filter(x, y, k, 0.01)\n",
    "print(\"Estimated coefficients:\", w[1])\n",
    "print (\"True coefficients:\", true_coefficients[1])"
   ]
  },
  {
   "cell_type": "code",
   "execution_count": 4,
   "metadata": {},
   "outputs": [
    {
     "data": {
      "text/plain": [
       "array([ 1.1899848 +2.91902382j, -0.06707877-5.32295825j])"
      ]
     },
     "execution_count": 4,
     "metadata": {},
     "output_type": "execute_result"
    }
   ],
   "source": [
    "y[4]"
   ]
  },
  {
   "cell_type": "code",
   "execution_count": 5,
   "metadata": {},
   "outputs": [
    {
     "name": "stdout",
     "output_type": "stream",
     "text": [
      "[2.33657787+4.0258594j  0.1197953 -2.83836461j]\n"
     ]
    }
   ],
   "source": [
    "print( np.dot(x[4], true_coefficients[0]) ) "
   ]
  },
  {
   "cell_type": "code",
   "execution_count": 6,
   "metadata": {},
   "outputs": [
    {
     "data": {
      "text/plain": [
       "array([[[ 0.42418699-0.91273998j, -0.32888752-0.6002173j ],\n",
       "        [ 2.41559575+0.19225603j, -0.25167144-0.32445637j],\n",
       "        [ 0.11309557-1.19387541j,  1.57072339-0.20108114j]],\n",
       "\n",
       "       [[-0.34294035-1.50696159j,  0.60178546+0.63642686j],\n",
       "        [-1.6606238 -0.9793118j , -0.69986166-0.86560641j],\n",
       "        [ 1.15385128-0.86231348j,  1.85149226-0.42265886j]]])"
      ]
     },
     "execution_count": 6,
     "metadata": {},
     "output_type": "execute_result"
    }
   ],
   "source": [
    "Ws[300]"
   ]
  },
  {
   "cell_type": "code",
   "execution_count": 7,
   "metadata": {},
   "outputs": [
    {
     "data": {
      "text/plain": [
       "(3, 2)"
      ]
     },
     "execution_count": 7,
     "metadata": {},
     "output_type": "execute_result"
    }
   ],
   "source": [
    "true_coefficients[0].shape"
   ]
  },
  {
   "cell_type": "code",
   "execution_count": null,
   "metadata": {},
   "outputs": [],
   "source": []
  }
 ],
 "metadata": {
  "kernelspec": {
   "display_name": "Python 3",
   "language": "python",
   "name": "python3"
  },
  "language_info": {
   "codemirror_mode": {
    "name": "ipython",
    "version": 3
   },
   "file_extension": ".py",
   "mimetype": "text/x-python",
   "name": "python",
   "nbconvert_exporter": "python",
   "pygments_lexer": "ipython3",
   "version": "3.11.9"
  }
 },
 "nbformat": 4,
 "nbformat_minor": 2
}
