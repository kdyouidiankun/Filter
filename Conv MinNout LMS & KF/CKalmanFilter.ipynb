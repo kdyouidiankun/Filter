{
 "cells": [
  {
   "cell_type": "code",
   "execution_count": 14,
   "metadata": {},
   "outputs": [
    {
     "name": "stdout",
     "output_type": "stream",
     "text": [
      "Input signal: [[-0.35882895-0.84681752j  0.6034716 -0.55395797j -1.66478853-0.12986603j]\n",
      " [-0.70017904+0.19904257j  1.15139101-1.17771595j  1.85733101+0.34118233j]\n",
      " [-1.51117956+0.09682765j  0.64484751-0.04215581j -0.98060789+0.9331908j ]]\n",
      "Desired signal: [[ 0.24995128+0.72692461j -3.39696997+0.58424488j]\n",
      " [ 3.43472766-3.98540717j  2.66208791+0.44149349j]\n",
      " [ 2.00783119+2.63443481j -0.92408249+2.29807431j]]\n"
     ]
    }
   ],
   "source": [
    "### generate complex data \n",
    "import numpy as np\n",
    "np.random.seed(5)\n",
    "\n",
    "def generate_data(n_samples, true_coefficients, noise_level=0.1):\n",
    "\n",
    "    # Generate a random input signal\n",
    "    k = len(true_coefficients)\n",
    "    m, n = true_coefficients[0].shape\n",
    "\n",
    "\n",
    "    x = np.random.randn(n_samples, m) + 1j*np.random.randn(n_samples, m)\n",
    "\n",
    "    # Generate the desired signal by passing the input through the known system\n",
    "    y = np.zeros((n_samples, n), dtype=np.complex128)\n",
    "\n",
    "    ### y is complex data\n",
    "    for j in range(k):\n",
    "        y += np.dot(np.roll(x, j, axis=0), true_coefficients[j])\n",
    "\n",
    "    # Add noise\n",
    "    # noise = noise_level * np.random.randn(n_samples, n) + 1j*noise_level * np.random.randn(n_samples, n)\n",
    "    # y += noise\n",
    "    \n",
    "    return x, y\n",
    "\n",
    "# Example usage\n",
    "n_samples = 30000\n",
    "# a series of matrix: k x m x n \n",
    "# k : influence scope 5\n",
    "# m : output dimension  3\n",
    "# n : input dimension 2\n",
    "\n",
    "k = 1\n",
    "m = 3\n",
    "n = 2\n",
    "## coef is complex \n",
    "true_coefficients = [np.random.randn(m, n) + 1j*np.random.randn(m, n) for _ in range(k)]\n",
    "\n",
    "noise_level = 0.05\n",
    "x, y = generate_data(n_samples, true_coefficients, noise_level)\n",
    "print(\"Input signal:\", x[:3])\n",
    "print(\"Desired signal:\", y[:3])"
   ]
  },
  {
   "cell_type": "code",
   "execution_count": 15,
   "metadata": {},
   "outputs": [],
   "source": [
    "### using kalman filter to estimate the coefficients\n",
    "def kalman_filter(x, y, k):\n",
    "    n_samples = len(y)\n",
    "    m = x.shape[1]\n",
    "    n = y.shape[1]\n",
    "    \n",
    "    # Initialize the state estimate\n",
    "    # Initialize w: k x m x n randomly\n",
    "    w = np.ones((k, m, n), dtype=np.complex128) * 0.1\n",
    "\n",
    "    # PQR matrices, initialized as identity matrices, each one is k x n x n\n",
    "    P = np.array([np.eye(m*n) for _ in range(k)]) * 1\n",
    "    # Q = np.array([np.eye(m*n) for _ in range(k)]) * 0.01\n",
    "    R = np.array([np.eye(n) for _ in range(k)]) * 1\n",
    "    \n",
    "\n",
    "    for i in range(k, n_samples):\n",
    "        # Predict\n",
    "        for j in range(k):\n",
    "            ## w[j] add some samll noise\n",
    "            # w[j] = w[j] +  np.random.randn(m, n) * 0.01\n",
    "            # P[j] = P[j] \n",
    "            pass \n",
    "        \n",
    "        # Update\n",
    "        \n",
    "        ### complex number\n",
    "        y_hat = np.zeros(n,dtype=np.complex128)\n",
    "        for j in range(k):\n",
    "            y_hat += np.dot(x[i-j], w[j])\n",
    "        \n",
    "        \n",
    "        for j in range(k):\n",
    "            ## w[j] add K[j] * e\n",
    "            W_temp = w[j].T.reshape(-1,1) \n",
    "            H_temp = np.zeros((n, m*n), dtype=np.complex128)\n",
    "            for l in range(n):\n",
    "                H_temp[l, m*l:m*(l+1)] = x[i-j] \n",
    "            S = np.dot(H_temp, np.dot(P[j], np.conj(H_temp.T)) ) + R[j]\n",
    "            K = np.dot(P[j], np.dot(np.conj(H_temp.T), np.linalg.inv(S))) \n",
    "\n",
    "            e = y[i] - y_hat\n",
    "            W_temp += np.dot(K.reshape(m*n, n), e.reshape(-1,1)) \n",
    "            w[j] = W_temp.reshape(n, m).T\n",
    "\n",
    "            P[j] = np.dot((np.eye(m*n) - np.dot(K, H_temp)), P[j]) ### P is reasonable \n",
    "            \n",
    "        # if i % 5 == 0:\n",
    "        #     print(w[0])\n",
    "            \n",
    "    return w"
   ]
  },
  {
   "cell_type": "code",
   "execution_count": 16,
   "metadata": {},
   "outputs": [
    {
     "name": "stderr",
     "output_type": "stream",
     "text": [
      "C:\\Users\\mioshi\\AppData\\Local\\Temp\\ipykernel_22896\\3379472039.py:46: ComplexWarning: Casting complex values to real discards the imaginary part\n",
      "  P[j] = np.dot((np.eye(m*n) - np.dot(K, H_temp)), P[j]) ### P is reasonable\n"
     ]
    },
    {
     "name": "stdout",
     "output_type": "stream",
     "text": [
      "True coefficients: [array([[ 0.44122749-0.9092324j , -0.33087015-0.59163666j],\n",
      "       [ 2.43077119+0.18760323j, -0.25209213-0.32986996j],\n",
      "       [ 0.10960984-1.19276461j,  1.58248112-0.20487651j]])]\n",
      "Estimated coefficients: [[[ 0.44103571-0.9090808j  -0.33091231-0.59187824j]\n",
      "  [ 2.43084303+0.18750058j -0.25201513-0.32975644j]\n",
      "  [ 0.10983692-1.19250398j  1.58305712-0.20465447j]]]\n"
     ]
    }
   ],
   "source": [
    "## Example usage\n",
    "\n",
    "estimated_coefficients = kalman_filter(x, y, k)\n",
    "print(\"True coefficients:\", true_coefficients)\n",
    "print(\"Estimated coefficients:\", estimated_coefficients)"
   ]
  },
  {
   "cell_type": "code",
   "execution_count": null,
   "metadata": {},
   "outputs": [],
   "source": []
  }
 ],
 "metadata": {
  "kernelspec": {
   "display_name": "Python 3",
   "language": "python",
   "name": "python3"
  },
  "language_info": {
   "codemirror_mode": {
    "name": "ipython",
    "version": 3
   },
   "file_extension": ".py",
   "mimetype": "text/x-python",
   "name": "python",
   "nbconvert_exporter": "python",
   "pygments_lexer": "ipython3",
   "version": "3.11.9"
  }
 },
 "nbformat": 4,
 "nbformat_minor": 2
}
